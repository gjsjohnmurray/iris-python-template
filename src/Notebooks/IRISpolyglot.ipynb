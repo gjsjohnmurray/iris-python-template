{
 "cells": [
  {
   "cell_type": "markdown",
   "metadata": {},
   "source": [
    "### Some ObjectScript"
   ]
  },
  {
   "cell_type": "code",
   "execution_count": 1,
   "metadata": {},
   "outputs": [
    {
     "name": "stdout",
     "output_type": "stream",
     "text": [
      "Hypotenuse = 5\n",
      "Pythagoras rules!"
     ]
    }
   ],
   "source": [
    " set a=3\n",
    " set b=4\n",
    " write \"Hypotenuse = \", $zsqr((a**2) + (b**2))\n",
    " if ('b) {\n",
    "  write !,\"Yes\"\n",
    " } else {\n",
    "  write !\n",
    "  write \"Pythagoras\"\n",
    "  /* return */\n",
    "  write \" rules!\"\n",
    " }"
   ]
  },
  {
   "cell_type": "markdown",
   "metadata": {},
   "source": [
    "### Some InterSystems SQL"
   ]
  },
  {
   "cell_type": "code",
   "execution_count": 2,
   "metadata": {
    "vscode": {
     "languageId": "sql"
    }
   },
   "outputs": [
    {
     "name": "stdout",
     "output_type": "stream",
     "text": [
      "ID\tNS\tRoutineName\tCommandsExecuted\n",
      "1826\t%SYS\t%SYS.cspServer2\t34196399\n",
      "1789\t%SYS\t%SYS.cspServer2\t7910025\n",
      "\n",
      "2 Rows(s) Affected"
     ]
    }
   ],
   "source": [
    "%sql%\n",
    "\n",
    "SELECT TOP 2 id, Namespace AS NS, Routine AS RoutineName, CommandsExecuted\n",
    " FROM %SYS.ProcessQuery\n",
    "  WHERE Namespace <> ''\n",
    "   ORDER BY CommandsExecuted DESC"
   ]
  },
  {
   "cell_type": "markdown",
   "metadata": {},
   "source": [
    "### Some Python executed inside IRIS"
   ]
  },
  {
   "cell_type": "code",
   "execution_count": 3,
   "metadata": {
    "vscode": {
     "languageId": "python"
    }
   },
   "outputs": [
    {
     "name": "stdout",
     "output_type": "stream",
     "text": [
      "Braund, Mr. Owen Harris\n"
     ]
    }
   ],
   "source": [
    "%python%\n",
    "\n",
    "import iris\n",
    "personOpen = iris.cls('Titanic.Table.Passenger')._OpenId(1)\n",
    "print(personOpen.name)"
   ]
  }
 ],
 "metadata": {
  "kernelspec": {
   "display_name": "ObjectScript",
   "language": "",
   "name": "objectscript"
  },
  "language_info": {
   "file_extension": ".int",
   "mimetype": "text/plain",
   "name": "objectscript-int"
  },
  "orig_nbformat": 4
 },
 "nbformat": 4,
 "nbformat_minor": 2
}
