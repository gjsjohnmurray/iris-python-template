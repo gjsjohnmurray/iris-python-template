{
 "cells": [
  {
   "cell_type": "markdown",
   "id": "2aa88393",
   "metadata": {},
   "source": [
    "# Using ObjectScript in a notebook\n",
    "This notebook uses a kernel written in Python, which plugs into Jupyter to enable execution of ObjectScript inside IRIS. See `misc/kernels/objectscript/*` and `src/ObjectScript/Kernel/CodeExecutor.cls` for how this is done.\n",
    "\n",
    "Indenting each line with at least one space allows InterSystems Language Server to recognize the ObjectScript INT code correctly."
   ]
  },
  {
   "cell_type": "code",
   "execution_count": 3,
   "id": "8e6a14d2",
   "metadata": {
    "vscode": {
     "languageId": "objectscript-int"
    }
   },
   "outputs": [
    {
     "name": "stdout",
     "output_type": "stream",
     "text": [
      "hello=\"helloworld2\"\r\n"
     ]
    }
   ],
   "source": [
    " Set hello = \"helloworld2\"\n",
    " zw hello"
   ]
  },
  {
   "cell_type": "markdown",
   "id": "3d0e0c8b",
   "metadata": {},
   "source": [
    "# Embedded Python in ObjectScript\n",
    "From ObjectScript, run some Python library methods."
   ]
  },
  {
   "cell_type": "code",
   "execution_count": 2,
   "id": "34244f15",
   "metadata": {
    "vscode": {
     "languageId": "objectscript-int"
    }
   },
   "outputs": [
    {
     "name": "stdout",
     "output_type": "stream",
     "text": [
      "datetime=3@%SYS.Python  ; <module 'datetime' from '/usr/lib/python3.8/datetime.py'>  ; <OREF>\r\n",
      "\"2021-12-12\"\r\n"
     ]
    }
   ],
   "source": [
    " set datetime = ##class(%SYS.Python).Import(\"datetime\")\n",
    " zw datetime\n",
    " zw datetime.date.today().isoformat()"
   ]
  }
 ],
 "metadata": {
  "kernelspec": {
   "display_name": "ObjectScript",
   "language": "",
   "name": "objectscript"
  },
  "language_info": {
   "file_extension": ".cls",
   "mimetype": "text/x-python",
   "name": "python"
  }
 },
 "nbformat": 4,
 "nbformat_minor": 5
}
