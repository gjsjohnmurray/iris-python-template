{
 "cells": [
  {
   "cell_type": "code",
   "execution_count": 14,
   "id": "8e6a14d2",
   "metadata": {},
   "outputs": [
    {
     "name": "stdout",
     "output_type": "stream",
     "text": []
    }
   ],
   "source": [
    "Set hello = \"helloworld\""
   ]
  },
  {
   "cell_type": "code",
   "execution_count": 15,
   "id": "c7fd33a1",
   "metadata": {},
   "outputs": [
    {
     "name": "stdout",
     "output_type": "stream",
     "text": [
      "hello=\"helloworld\"\r\n"
     ]
    }
   ],
   "source": [
    "zw hello"
   ]
  },
  {
   "cell_type": "code",
   "execution_count": 16,
   "id": "34244f15",
   "metadata": {},
   "outputs": [
    {
     "name": "stdout",
     "output_type": "stream",
     "text": []
    }
   ],
   "source": [
    "set datetime = ##class(%SYS.Python).Import(\"datetime\")"
   ]
  },
  {
   "cell_type": "code",
   "execution_count": 17,
   "id": "d49a29db",
   "metadata": {},
   "outputs": [
    {
     "name": "stdout",
     "output_type": "stream",
     "text": [
      "datetime=<module 'datetime<module 'datetime<module 'datetime<module 'datetime<modul  ; <OREF>\r\n"
     ]
    }
   ],
   "source": [
    "zw datetime"
   ]
  },
  {
   "cell_type": "code",
   "execution_count": 18,
   "id": "250ae259",
   "metadata": {},
   "outputs": [
    {
     "name": "stdout",
     "output_type": "stream",
     "text": [
      "\"2021-11-29\"\r\n"
     ]
    }
   ],
   "source": [
    "zw datetime.date.today().isoformat()"
   ]
  }
 ],
 "metadata": {
  "kernelspec": {
   "display_name": "ObjectScript",
   "language": "",
   "name": "objectscript"
  },
  "language_info": {
   "file_extension": ".cls",
   "mimetype": "text/x-python",
   "name": "python"
  }
 },
 "nbformat": 4,
 "nbformat_minor": 5
}
