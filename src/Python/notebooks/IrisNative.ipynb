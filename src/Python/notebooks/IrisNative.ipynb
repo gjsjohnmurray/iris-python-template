{
 "cells": [
  {
   "cell_type": "markdown",
   "id": "1d834ca1",
   "metadata": {},
   "source": [
    "# install wheel"
   ]
  },
  {
   "cell_type": "code",
   "execution_count": 1,
   "id": "cfc40280",
   "metadata": {},
   "outputs": [
    {
     "ename": "AttributeError",
     "evalue": "module 'iris' has no attribute 'connect'",
     "output_type": "error",
     "traceback": [
      "\u001b[0;31m---------------------------------------------------------------------------\u001b[0m",
      "\u001b[0;31mAttributeError\u001b[0m                            Traceback (most recent call last)",
      "\u001b[0;32m/tmp/ipykernel_1046/2805405373.py\u001b[0m in \u001b[0;36m<module>\u001b[0;34m\u001b[0m\n\u001b[1;32m      9\u001b[0m \u001b[0;34m\u001b[0m\u001b[0m\n\u001b[1;32m     10\u001b[0m \u001b[0;31m# create database connection and IRIS instance\u001b[0m\u001b[0;34m\u001b[0m\u001b[0;34m\u001b[0m\u001b[0;34m\u001b[0m\u001b[0m\n\u001b[0;32m---> 11\u001b[0;31m \u001b[0mconnection\u001b[0m \u001b[0;34m=\u001b[0m \u001b[0miris\u001b[0m\u001b[0;34m.\u001b[0m\u001b[0mconnect\u001b[0m\u001b[0;34m(\u001b[0m\u001b[0;34m\"localhost\"\u001b[0m\u001b[0;34m,\u001b[0m \u001b[0;36m1972\u001b[0m\u001b[0;34m,\u001b[0m \u001b[0;34m\"USER\"\u001b[0m\u001b[0;34m,\u001b[0m \u001b[0;34m\"superuser\"\u001b[0m\u001b[0;34m,\u001b[0m \u001b[0;34m\"SYS\"\u001b[0m\u001b[0;34m,\u001b[0m \u001b[0msharedmemory\u001b[0m \u001b[0;34m=\u001b[0m \u001b[0;32mFalse\u001b[0m\u001b[0;34m)\u001b[0m\u001b[0;34m\u001b[0m\u001b[0;34m\u001b[0m\u001b[0m\n\u001b[0m\u001b[1;32m     12\u001b[0m \u001b[0;34m\u001b[0m\u001b[0m\n",
      "\u001b[0;31mAttributeError\u001b[0m: module 'iris' has no attribute 'connect'"
     ]
    }
   ],
   "source": [
    "import iris\n",
    "\n",
    "# Modify connection info based on your environment\n",
    "host = \"localhost\"\n",
    "port = 1972\n",
    "namespace = \"USER\"\n",
    "username = \"_SYSTEM\"\n",
    "password = \"SYS\"\n",
    "\n",
    "# create database connection and IRIS instance\n",
    "connection = iris.connect(\"localhost\", 1972, \"USER\", \"superuser\", \"SYS\", sharedmemory = False)\n",
    "\n"
   ]
  },
  {
   "cell_type": "code",
   "execution_count": null,
   "id": "b0dfa339",
   "metadata": {},
   "outputs": [],
   "source": []
  }
 ],
 "metadata": {
  "kernelspec": {
   "display_name": "Python 3 (ipykernel)",
   "language": "python",
   "name": "python3"
  },
  "language_info": {
   "codemirror_mode": {
    "name": "ipython",
    "version": 3
   },
   "file_extension": ".py",
   "mimetype": "text/x-python",
   "name": "python",
   "nbconvert_exporter": "python",
   "pygments_lexer": "ipython3",
   "version": "3.8.6"
  }
 },
 "nbformat": 4,
 "nbformat_minor": 5
}
