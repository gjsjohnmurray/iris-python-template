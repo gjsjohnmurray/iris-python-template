{
 "cells": [
  {
   "cell_type": "markdown",
   "metadata": {},
   "source": [
    "# Hello World en Python"
   ]
  },
  {
   "cell_type": "code",
   "execution_count": 3,
   "metadata": {
    "scrolled": false
   },
   "outputs": [
    {
     "name": "stdout",
     "output_type": "stream",
     "text": [
      "hello\n",
      "world\n"
     ]
    }
   ],
   "source": [
    "print(\"hello\")\n",
    "print(\"world\")"
   ]
  },
  {
   "cell_type": "markdown",
   "metadata": {},
   "source": [
    "# Interaction iris et python\n",
    "\n",
    "Utilisation d'objectscript en python\n",
    "\n",
    "Exemple Demo.Person qui est une classe persistente"
   ]
  },
  {
   "cell_type": "code",
   "execution_count": 4,
   "metadata": {},
   "outputs": [
    {
     "name": "stdout",
     "output_type": "stream",
     "text": [
      "1\n"
     ]
    }
   ],
   "source": [
    "import iris\n",
    "person = iris.cls('Demo.Person')._New()\n",
    "person.Name = 'toto'\n",
    "print(person._Save())\n"
   ]
  },
  {
   "cell_type": "markdown",
   "metadata": {},
   "source": [
    "## Requete SQL en python"
   ]
  },
  {
   "cell_type": "code",
   "execution_count": 5,
   "metadata": {},
   "outputs": [
    {
     "name": "stdout",
     "output_type": "stream",
     "text": [
      "['1', '', 'toto']\n"
     ]
    }
   ],
   "source": [
    "import iris\n",
    "statement = iris.sql.prepare('SELECT * FROM Demo.Person')\n",
    "rs1 = statement.execute()\n",
    "for row in rs1:\n",
    "    print(row)"
   ]
  },
  {
   "cell_type": "markdown",
   "metadata": {},
   "source": [
    "# Utilisation d'objectscript en python"
   ]
  },
  {
   "cell_type": "code",
   "execution_count": 6,
   "metadata": {},
   "outputs": [
    {
     "name": "stdout",
     "output_type": "stream",
     "text": [
      "toto\n",
      "ttoto1\n",
      "1\n"
     ]
    }
   ],
   "source": [
    "personOpen = iris.cls('Demo.Person')._OpenId(1)\n",
    "print(personOpen.Name)\n",
    "personOpen.Name = 'ttoto1'\n",
    "print(personOpen.Name)\n",
    "print(personOpen._Save())"
   ]
  },
  {
   "cell_type": "markdown",
   "metadata": {},
   "source": [
    "# Utilisation de l'objectscript classique"
   ]
  },
  {
   "cell_type": "code",
   "execution_count": 6,
   "metadata": {},
   "outputs": [
    {
     "name": "stdout",
     "output_type": "stream",
     "text": [
      "\"ttoto1\"\r\n",
      "\"iti2\"\r\n"
     ]
    }
   ],
   "source": [
    "%cos\n",
    "set personOpen = ##class(Demo.Person).%OpenId(1)\n",
    "zw personOpen.Name\n",
    "set personOpen.Name = \"iti2\"\n",
    "zw personOpen.Name\n",
    "do personOpen.%Save()"
   ]
  },
  {
   "cell_type": "code",
   "execution_count": 7,
   "metadata": {},
   "outputs": [
    {
     "name": "stdout",
     "output_type": "stream",
     "text": [
      "test=\"titi\"\r\n",
      "\"else\"\r\n"
     ]
    }
   ],
   "source": [
    "%cos\n",
    "set test=\"titi\"\n",
    "zw test\n",
    "if test '= \"titi\" {\n",
    "    zw \"if\"\n",
    "}\n",
    "else {\n",
    "    zw \"else\"\n",
    "}"
   ]
  },
  {
   "cell_type": "markdown",
   "metadata": {},
   "source": [
    "# SQL en direct"
   ]
  },
  {
   "cell_type": "code",
   "execution_count": 7,
   "metadata": {
    "scrolled": true
   },
   "outputs": [
    {
     "name": "stdout",
     "output_type": "stream",
     "text": [
      "ID\tLastName\tName\r\n",
      "1\t\tttoto1\r\n",
      "\r\n",
      "1 Rows(s) Affected"
     ]
    }
   ],
   "source": [
    "%sql\n",
    "SELECT * FROM Demo.Person"
   ]
  },
  {
   "cell_type": "markdown",
   "metadata": {},
   "source": [
    "# Utilisation du python dans de l'objectscript"
   ]
  },
  {
   "cell_type": "code",
   "execution_count": 8,
   "metadata": {},
   "outputs": [
    {
     "name": "stdout",
     "output_type": "stream",
     "text": [
      "datetime=21@%SYS.Python  ; <module 'datetime' from '/usr/irissys/lib/python3.9/datetime.py'>  ; <OREF>\r\n",
      "\"2021-07-01\"\r\n"
     ]
    }
   ],
   "source": [
    "%cos\n",
    "set datetime = ##class(%SYS.Python).Import(\"datetime\")\n",
    "zw datetime\n",
    "zw datetime.date.today().isoformat()"
   ]
  },
  {
   "cell_type": "code",
   "execution_count": null,
   "metadata": {},
   "outputs": [],
   "source": []
  }
 ],
 "metadata": {
  "kernelspec": {
   "display_name": "IrisPython",
   "language": "",
   "name": "objectscriptkernel"
  },
  "language_info": {
   "file_extension": ".cls",
   "mimetype": "text/x-python",
   "name": "python"
  }
 },
 "nbformat": 4,
 "nbformat_minor": 4
}
